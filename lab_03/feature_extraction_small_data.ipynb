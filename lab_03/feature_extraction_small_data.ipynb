{
 "cells": [
  {
   "cell_type": "code",
   "execution_count": 1,
   "metadata": {},
   "outputs": [],
   "source": [
    "import numpy as np\n",
    "import matplotlib.pyplot as plt\n",
    "from sklearn import datasets\n",
    "from sklearn.decomposition import PCA\n",
    "from sklearn.discriminant_analysis import LinearDiscriminantAnalysis, QuadraticDiscriminantAnalysis\n",
    "from sklearn.neighbors import KNeighborsClassifier\n",
    "from sklearn.model_selection import train_test_split"
   ]
  },
  {
   "cell_type": "code",
   "execution_count": 2,
   "metadata": {},
   "outputs": [],
   "source": [
    "raw_datasets = {\n",
    "    'Iris Dataset': datasets.load_iris(),\n",
    "    'Handwritten Digits Dataset': datasets.load_digits(),\n",
    "    'Wine Dataset': datasets.load_wine(),\n",
    "}"
   ]
  },
  {
   "cell_type": "code",
   "execution_count": null,
   "metadata": {},
   "outputs": [],
   "source": [
    "for raw_label, raw_data in raw_datasets.items():\n",
    "    target = np.unique(raw_data.target).tolist()\n",
    "    target_names = raw_data.target_names.tolist()\n",
    "    \n",
    "    # 绘制样本的原始空间前2维散点图\n",
    "    for i, c in enumerate(target):\n",
    "        x = [raw_data.data[j, 0] for j in range(raw_data.data.shape[0]) if raw_data.target[j] == c]\n",
    "        y = [raw_data.data[j, 1] for j in range(raw_data.data.shape[0]) if raw_data.target[j] == c]\n",
    "        plt.scatter(x, y, label=target_names[i])\n",
    "    plt.xlabel('First Dimension')\n",
    "    plt.ylabel('Second Dismension')\n",
    "    plt.title('Original space (%s)' % raw_label)\n",
    "    plt.legend()\n",
    "    plt.show()\n",
    "    \n",
    "    # PCA降维\n",
    "    pca_reduced = PCA(n_components=2).fit_transform(raw_data.data)\n",
    "    # 绘制样本的PCA降维子空间\n",
    "    for i, c in enumerate(target):\n",
    "        x = [pca_reduced[j, 0] for j in range(raw_data.data.shape[0]) if raw_data.target[j] == c]\n",
    "        y = [pca_reduced[j, 1] for j in range(raw_data.data.shape[0]) if raw_data.target[j] == c]\n",
    "        plt.scatter(x, y, label=target_names[i])\n",
    "    plt.xlabel('First Component')\n",
    "    plt.ylabel('Second Component')\n",
    "    plt.title('PCA subspace (%s)' % raw_label)\n",
    "    plt.legend()\n",
    "    plt.show()\n",
    "    \n",
    "    # LDA降维\n",
    "    lda_reduced = LinearDiscriminantAnalysis(n_components=2).fit_transform(raw_data.data, raw_data.target)\n",
    "    # 绘制样本的LDA降维子空间散点图\n",
    "    for i, c in enumerate(target):\n",
    "        x = [lda_reduced[j, 0] for j in range(raw_data.data.shape[0]) if raw_data.target[j] == c]\n",
    "        y = [lda_reduced[j, 1] for j in range(raw_data.data.shape[0]) if raw_data.target[j] == c]\n",
    "        plt.scatter(x, y, label=target_names[i])\n",
    "\n",
    "    plt.xlabel('First Dimension')\n",
    "    plt.ylabel('Second Dimension')\n",
    "    plt.title('LDA subspace (%s)' % raw_label)\n",
    "    plt.legend()\n",
    "    plt.show()\n",
    "    \n",
    "    # 应用分类器LDF, QDF, 1-NN\n",
    "    clf_models = [LinearDiscriminantAnalysis(), QuadraticDiscriminantAnalysis(), \n",
    "                  KNeighborsClassifier(n_neighbors=1)]\n",
    "    clf_names = ['LDF', 'QDF', '1-NN']\n",
    "    \n",
    "    X_train, X_test, y_train, y_test = train_test_split(raw_data.data, raw_data.target, test_size=0.4, \n",
    "                                                        random_state=0)\n",
    "    \n",
    "    for i, clf in enumerate(clf_models):\n",
    "        # PCA reduced\n",
    "        pca_model = PCA(n_components=2)\n",
    "        pca_model.fit(X_train)\n",
    "        pca_X_train = pca_model.transform(X_train)\n",
    "        pca_X_test = pca_model.transform(X_test)\n",
    "\n",
    "        clf.fit(pca_X_train, y_train)\n",
    "        score = clf.score(pca_X_test, y_test)\n",
    "        print('%s, PCA reduced, %s mean accuracy: %s. \\n' % (raw_label, clf_names[i], score))\n",
    "\n",
    "        # LDA reduced\n",
    "        lda_model = LinearDiscriminantAnalysis(n_components=2)\n",
    "        lda_model.fit(X_train, y_train)\n",
    "        lda_X_train = lda_model.transform(X_train)\n",
    "        lda_X_test = lda_model.transform(X_test)\n",
    "\n",
    "        clf.fit(lda_X_train, y_train)\n",
    "        score = clf.score(lda_X_test, y_test)\n",
    "        print('%s, LDA reduced, %s mean accuracy: %s. \\n' % (raw_label, clf_names[i], score))"
   ]
  },
  {
   "cell_type": "code",
   "execution_count": null,
   "metadata": {},
   "outputs": [],
   "source": []
  }
 ],
 "metadata": {
  "kernelspec": {
   "display_name": "Python 3",
   "language": "python",
   "name": "python3"
  },
  "language_info": {
   "codemirror_mode": {
    "name": "ipython",
    "version": 3
   },
   "file_extension": ".py",
   "mimetype": "text/x-python",
   "name": "python",
   "nbconvert_exporter": "python",
   "pygments_lexer": "ipython3",
   "version": "3.6.7"
  }
 },
 "nbformat": 4,
 "nbformat_minor": 2
}
