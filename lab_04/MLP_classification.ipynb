{
 "cells": [
  {
   "cell_type": "code",
   "execution_count": null,
   "metadata": {},
   "outputs": [],
   "source": [
    "from sklearn import datasets\n",
    "from sklearn.neural_network import MLPClassifier\n",
    "from sklearn.model_selection import train_test_split\n",
    "import matplotlib.pyplot as plt"
   ]
  },
  {
   "cell_type": "code",
   "execution_count": null,
   "metadata": {},
   "outputs": [],
   "source": [
    "raw_datasets = {\n",
    "    'Iris Dataset': datasets.load_iris(),\n",
    "    'Handwritten Digits Dataset': datasets.load_digits(),\n",
    "    'Wine Dataset': datasets.load_wine(),\n",
    "    'Breast Cancer Wisconsin Dataset': datasets.load_breast_cancer()\n",
    "}"
   ]
  },
  {
   "cell_type": "code",
   "execution_count": null,
   "metadata": {},
   "outputs": [],
   "source": [
    "def train_test_score(mlp_clf, sk_dataset):\n",
    "    X_train, X_test, Y_train, Y_test = train_test_split(sk_dataset.data, sk_dataset.target, test_size=0.4, \n",
    "                                                        random_state=0)\n",
    "    mlp_clf.fit(X_train, Y_train)\n",
    "    \n",
    "    return mlp_clf.score(X_test, Y_test)"
   ]
  },
  {
   "cell_type": "code",
   "execution_count": null,
   "metadata": {},
   "outputs": [],
   "source": [
    "for raw_label, raw_data in raw_datasets.items(): \n",
    "    # different hidden layer num versus accuracy\n",
    "    net_layer_nums = [3, 4, 5, 6, 7]\n",
    "    hidden_neuron_num = 100\n",
    "    accuracy_hidden_layer = []\n",
    "    for hidden_num in net_layer_nums:\n",
    "        hidden_layer_sizes = (hidden_neuron_num, ) * (hidden_num - 2)\n",
    "        print('Hidden layer size: %s' % (hidden_layer_sizes, ))\n",
    "        \n",
    "        mlp_clf = MLPClassifier(solver='lbfgs', alpha=1e-5, hidden_layer_sizes=hidden_layer_sizes, random_state=1, \n",
    "                                max_iter = 1000)\n",
    "        accuracy_score = train_test_score(mlp_clf=mlp_clf, sk_dataset=raw_data)\n",
    "        \n",
    "        accuracy_hidden_layer.append(accuracy_score)\n",
    "    \n",
    "    # print mean accuracy corresponding to different hidden layer num\n",
    "    # default hidden layer neurons equals 100\n",
    "    print(accuracy_hidden_layer)\n",
    "    \n",
    "    # plot accuracy versus hidden layer num\n",
    "    plt.plot(net_layer_nums, accuracy_hidden_layer, c='b', marker='o')\n",
    "    plt.title(raw_label)\n",
    "    plt.xticks(net_layer_nums)\n",
    "    plt.xlabel('Net Layer Num')\n",
    "    plt.ylabel('Accuracy')\n",
    "    plt.show()\n",
    "    \n",
    "    # different hidden neurons versus accuracy\n",
    "    net_num = 3\n",
    "    hidden_neuro_nums = list(range(10, 210, 10))\n",
    "    accuracy_hidden_neuro = []\n",
    "    for neuro_num in hidden_neuro_nums:\n",
    "        hidden_layer_sizes = (neuro_num, ) * (net_num - 2)\n",
    "        print('Hidden layer size: %s' % (hidden_layer_sizes, ))\n",
    "        \n",
    "        mlp_clf = MLPClassifier(solver='lbfgs', alpha=1e-5, hidden_layer_sizes=hidden_layer_sizes, random_state=1, \n",
    "                                max_iter = 1000)\n",
    "        accuracy_score = train_test_score(mlp_clf=mlp_clf, sk_dataset=raw_data)\n",
    "        accuracy_hidden_neuro.append(accuracy_score)\n",
    "    \n",
    "    # print mean accuracy corresponding to different hidden neuron num\n",
    "    # default hidden layer num equals 3\n",
    "    print(accuracy_hidden_neuro)\n",
    "    \n",
    "    # plot accuracy versus hidden neuron num\n",
    "    plt.plot(hidden_neuro_nums, accuracy_hidden_neuro, c='g', marker='o')\n",
    "    plt.title(raw_label)\n",
    "    plt.xlabel('Hidden Neuron Num')\n",
    "    plt.ylabel('Accuracy')\n",
    "    plt.show()"
   ]
  }
 ],
 "metadata": {
  "kernelspec": {
   "display_name": "Python 3",
   "language": "python",
   "name": "python3"
  },
  "language_info": {
   "codemirror_mode": {
    "name": "ipython",
    "version": 3
   },
   "file_extension": ".py",
   "mimetype": "text/x-python",
   "name": "python",
   "nbconvert_exporter": "python",
   "pygments_lexer": "ipython3",
   "version": "3.6.7"
  }
 },
 "nbformat": 4,
 "nbformat_minor": 2
}
