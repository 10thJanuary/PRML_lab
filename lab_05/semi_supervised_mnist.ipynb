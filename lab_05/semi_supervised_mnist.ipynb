{
 "cells": [
  {
   "cell_type": "code",
   "execution_count": 184,
   "metadata": {},
   "outputs": [],
   "source": [
    "import numpy as np\n",
    "from sklearn.model_selection import train_test_split\n",
    "from sklearn.datasets import fetch_openml\n",
    "from sklearn.utils import check_random_state\n",
    "\n",
    "from sklearn.semi_supervised import LabelSpreading, LabelPropagation\n",
    "from sklearn.metrics import accuracy_score\n",
    "import matplotlib.pyplot as plt"
   ]
  },
  {
   "cell_type": "code",
   "execution_count": 78,
   "metadata": {},
   "outputs": [
    {
     "data": {
      "text/plain": [
       "{'divide': 'warn', 'over': 'warn', 'under': 'ignore', 'invalid': 'warn'}"
      ]
     },
     "execution_count": 78,
     "metadata": {},
     "output_type": "execute_result"
    }
   ],
   "source": [
    "np.seterr('ignore')"
   ]
  },
  {
   "cell_type": "code",
   "execution_count": 2,
   "metadata": {},
   "outputs": [],
   "source": [
    "# 下载MNIST数据集\n",
    "X, Y = fetch_openml('mnist_784', version=1, return_X_y=True)\n",
    "\n",
    "X = X.astype('float')\n",
    "Y = Y.astype('int')"
   ]
  },
  {
   "cell_type": "code",
   "execution_count": 3,
   "metadata": {},
   "outputs": [],
   "source": [
    "# MNIST数据集，构造包含2000个样本的子集，每个类别包含200个样本\n",
    "n_classes = np.unique(Y)\n",
    "X_use, Y_use = np.array([]), np.array([])\n",
    "\n",
    "for i in range(n_classes.shape[0]):\n",
    "    pos = np.where(Y==n_classes[i])\n",
    "    X_label = X[pos]\n",
    "    Y_label = Y[pos]\n",
    "    assert np.all(Y_label == n_classes[i])\n",
    "    \n",
    "    random_state = check_random_state(0)\n",
    "    permutation = random_state.permutation(X_label.shape[0])\n",
    "    X_label = X_label[permutation]\n",
    "    Y_label = Y_label[permutation]\n",
    "    \n",
    "    if X_use.size <= 0:\n",
    "        X_use = X_label[:200]\n",
    "    else:    \n",
    "        X_use = np.concatenate((X_use, X_label[:200]), axis=0)\n",
    "    \n",
    "    if Y_use.size <= 0:\n",
    "        Y_use = Y_label[:200]\n",
    "    else:\n",
    "        Y_use = np.concatenate((Y_use, Y_label[:200]), axis=0)"
   ]
  },
  {
   "cell_type": "code",
   "execution_count": 119,
   "metadata": {},
   "outputs": [],
   "source": [
    "# 构造训练集和测试集\n",
    "random_state = check_random_state(0)\n",
    "permutation = random_state.permutation(X_use.shape[0])\n",
    "X_use = X_use[permutation]\n",
    "Y_use = Y_use[permutation]\n",
    "\n",
    "X_train, X_test, y_train, y_test = train_test_split(X_use, Y_use, test_size=0.33, random_state=42)"
   ]
  },
  {
   "cell_type": "code",
   "execution_count": 124,
   "metadata": {},
   "outputs": [],
   "source": [
    "# 每个类标注20%\n",
    "percentage = 0.2\n",
    "n_classes = np.unique(y_train)\n",
    "\n",
    "for i in range(n_classes.shape[0]):\n",
    "    pos = np.where(y_train==n_classes[i])\n",
    "    unlabel_length = int(pos[0].shape[0] * (1-percentage))\n",
    "    y_train[pos[0][:unlabel_length]] = -1"
   ]
  },
  {
   "cell_type": "code",
   "execution_count": 175,
   "metadata": {},
   "outputs": [],
   "source": [
    "# # 每个类标注30%\n",
    "# percentage = 0.3\n",
    "# n_classes = np.unique(y_train)\n",
    "\n",
    "# for i in range(n_classes.shape[0]):\n",
    "#     pos = np.where(y_train==n_classes[i])\n",
    "#     unlabel_length = int(pos[0].shape[0] * (1-percentage))\n",
    "#     y_train[pos[0][:unlabel_length]] = -1"
   ]
  },
  {
   "cell_type": "code",
   "execution_count": 176,
   "metadata": {},
   "outputs": [],
   "source": [
    "# # 每个类标注40%\n",
    "# percentage = 0.4\n",
    "# n_classes = np.unique(y_train)\n",
    "\n",
    "# for i in range(n_classes.shape[0]):\n",
    "#     pos = np.where(y_train==n_classes[i])\n",
    "#     unlabel_length = int(pos[0].shape[0] * (1-percentage))\n",
    "#     y_train[pos[0][:unlabel_length]] = -1"
   ]
  },
  {
   "cell_type": "code",
   "execution_count": null,
   "metadata": {},
   "outputs": [],
   "source": [
    "# sigma取不同值, GRFSemi模型\n",
    "sigma = [0.1, 0.2, 0.3, 0.4, 0.5, 0.6, 0.7, 0.8, 0.9]\n",
    "scores = []\n",
    "for v in sigma:\n",
    "    gamma = 1 / (2 * v * v)\n",
    "    semi_model = GRFSemi(gamma=gamma)\n",
    "    semi_model.fit(X_train, y_train)\n",
    "    y_pred = semi_model.predict(X_test)\n",
    "\n",
    "    scores.append(accuracy_score(y_pred, y_test))"
   ]
  },
  {
   "cell_type": "code",
   "execution_count": 227,
   "metadata": {},
   "outputs": [
    {
     "data": {
      "text/plain": [
       "Text(0.5,1,'GRFSemi Model with different sigma')"
      ]
     },
     "execution_count": 227,
     "metadata": {},
     "output_type": "execute_result"
    },
    {
     "data": {
      "image/png": "[encoded data removed]",
      "text/plain": [
       "<Figure size 432x288 with 1 Axes>"
      ]
     },
     "metadata": {},
     "output_type": "display_data"
    }
   ],
   "source": [
    "plt.plot(sigma, scores, c='b', marker='o')\n",
    "plt.xlabel('Sigma')\n",
    "plt.ylabel('Accuracy')\n",
    "plt.title('GRFSemi Model with different sigma')"
   ]
  },
  {
   "cell_type": "code",
   "execution_count": null,
   "metadata": {},
   "outputs": [],
   "source": [
    "# sigma取不同值, LLGCSemi模型\n",
    "sigma = [0.1, 0.2, 0.3, 0.4, 0.5, 0.6, 0.7, 0.8, 0.9]\n",
    "scores = []\n",
    "for v in sigma:\n",
    "    gamma = 1 / (2 * v * v)\n",
    "    semi_model = LLGCSemi(gamma=gamma)\n",
    "    semi_model.fit(X_train, y_train)\n",
    "    y_pred = semi_model.predict(X_test)\n",
    "\n",
    "    scores.append(accuracy_score(y_pred, y_test))"
   ]
  },
  {
   "cell_type": "code",
   "execution_count": 228,
   "metadata": {},
   "outputs": [
    {
     "data": {
      "text/plain": [
       "Text(0.5,1,'LLGCSemi Model with different sigma')"
      ]
     },
     "execution_count": 228,
     "metadata": {},
     "output_type": "execute_result"
    },
    {
     "data": {
      "image/png": "[encoded data removed]",
      "text/plain": [
       "<Figure size 432x288 with 1 Axes>"
      ]
     },
     "metadata": {},
     "output_type": "display_data"
    }
   ],
   "source": [
    "plt.plot(sigma, scores, c='b', marker='o')\n",
    "plt.xlabel('Sigma')\n",
    "plt.ylabel('Accuracy')\n",
    "plt.title('LLGCSemi Model with different sigma')"
   ]
  },
  {
   "cell_type": "code",
   "execution_count": null,
   "metadata": {},
   "outputs": [],
   "source": [
    "# lambda取不同值, LLGCSemi模型\n",
    "lambda_value = [0.1, 0.25, 0.42, 0.67, 1, 1.5, 2.3, 4, 9]\n",
    "scores = []\n",
    "for v in lambda_value:\n",
    "    alpha = lambda_value / (1 + lambda_value)\n",
    "    semi_model = LLGCSemi(alpha=alpha)\n",
    "    semi_model.fit(X_train, y_train)\n",
    "    y_pred = semi_model.predict(X_test)\n",
    "\n",
    "    scores.append(accuracy_score(y_pred, y_test))"
   ]
  },
  {
   "cell_type": "code",
   "execution_count": 229,
   "metadata": {},
   "outputs": [
    {
     "data": {
      "text/plain": [
       "Text(0.5,1,'LLGCSemi Model with different lambda')"
      ]
     },
     "execution_count": 229,
     "metadata": {},
     "output_type": "execute_result"
    },
    {
     "data": {
      "image/png": "[encoded data removed]",
      "text/plain": [
       "<Figure size 432x288 with 1 Axes>"
      ]
     },
     "metadata": {},
     "output_type": "display_data"
    }
   ],
   "source": [
    "plt.plot(lambda_value, scores, c='b', marker='o')\n",
    "plt.xlabel('lambda')\n",
    "plt.ylabel('Accuracy')\n",
    "plt.title('LLGCSemi Model with different lambda')"
   ]
  }
 ],
 "metadata": {
  "kernelspec": {
   "display_name": "Python 3",
   "language": "python",
   "name": "python3"
  },
  "language_info": {
   "codemirror_mode": {
    "name": "ipython",
    "version": 3
   },
   "file_extension": ".py",
   "mimetype": "text/x-python",
   "name": "python",
   "nbconvert_exporter": "python",
   "pygments_lexer": "ipython3",
   "version": "3.6.7"
  }
 },
 "nbformat": 4,
 "nbformat_minor": 2
}
